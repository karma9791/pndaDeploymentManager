{
 "cells": [
  {
   "cell_type": "markdown",
   "metadata": {},
   "source": [
    "# Notebooks of PNDA Applications\n",
    "\n",
    "This folder synchronizes the notebooks of the deployed PNDA Applications when your jupyter server starts. Each PNDA app is checkout in a folder with its name.\n",
    "\n",
    "> **WARNING**: WATCH OUT! modfications to notebooks or files in this folders will be removed when your jupyter server restarts.\n",
    "> If you want to persist your changes, copy the files outside this folder.\n",
    "\n",
    "\n"
   ]
  }
 ],
 "metadata": {
  "kernelspec": {
   "display_name": "Python 3",
   "language": "python",
   "name": "python3"
  },
  "language_info": {
   "codemirror_mode": {
    "name": "ipython",
    "version": 3
   },
   "file_extension": ".py",
   "mimetype": "text/x-python",
   "name": "python",
   "nbconvert_exporter": "python",
   "pygments_lexer": "ipython3",
   "version": "3.7.3"
  }
 },
 "nbformat": 4,
 "nbformat_minor": 4
}
